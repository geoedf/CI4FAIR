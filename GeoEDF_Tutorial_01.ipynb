{
 "cells": [
  {
   "cell_type": "markdown",
   "metadata": {},
   "source": [
    "# GeoEDF_Tutorial_01"
   ]
  },
  {
   "cell_type": "markdown",
   "metadata": {},
   "source": [
    "This notebook demonstrates a GeoEDF hydrologic workflow that acquires data (in HDF format) from a NASA Distributed Active Archive Center (DAAC) and aggregates the data across a provided watershed region. This is often the first step before running a hydrologic model. \n",
    "\n",
    "![Workflow](files/img/research.png)\n",
    "\n",
    "In GeoEDF, this workflow combines a data connector (**NASAInput**) and processor (**HDFEOSShapefileMask**) as follows:\n",
    "\n",
    "![Workflow](files/img/mcd.png)\n",
    "\n",
    "The corresponding YAML GeoEDF workflow [file](./workflow/mcd15.yml) is as follows:\n",
    "\n",
    "```\n",
    "$1:\n",
    "  Input:\n",
    "    NASAInput:\n",
    "      url: https://e4ftl01.cr.usgs.gov/MOTA/MCD15A3H.061/%{filename}\n",
    "      user: rkalyana\n",
    "      password:\n",
    "  Filter:\n",
    "    filename:\n",
    "      PathFilter:\n",
    "        pattern: '%{dtstring}/MCD15A3H.*.h09v07*.hdf'\n",
    "    dtstring:\n",
    "      DateTimeFilter:\n",
    "        pattern: '%Y.%m.%d'\n",
    "        start: 07/16/2002\n",
    "        exact_dates: True\n",
    "$2:\n",
    "  HDFEOSShapefileMask:\n",
    "    hdffile: $1\n",
    "    shapefile: /home/jovyan/CI4FAIR/files/watershed/subs1_projected_171936.shp\n",
    "    datasets: [Lai]\n",
    "```\n",
    "\n",
    "**Note:** \n",
    "\n",
    "1. A GeoEDF workflow combines _instances_ of connector or processor classes. The YAML syntax enables the user to specify bindings for the class arguments for the connector or processor (e.g., url, user, shapefile, etc.).\n",
    "2. Filters enhance the generality of connectors. In this specific case, HDF data for a specific time period can be acquired by modifying the _DateTimeFilter_ appropriately. Similarly, wildcards ('*') in the _PathFilter_ enable search across all the files hosted in that directory on the repository.\n",
    "3. Filters essentially provide one or more binding values for variables referenced in other connectors or filters. For example, the _filename_ variable in the _NASAInput_ connector is bound by the _PathFilter_; and the _dtstring_ variable in _PathFilter_ is bound by the _DateTimeFilter_.\n",
    "3. Numeric indices are used to denote the workflow step and establish output-input linkages between steps. \n",
    "4. Fields left blank (for e.g., _password_) are instantiated at workflow execution time by prompting the user to specify a value."
   ]
  },
  {
   "cell_type": "markdown",
   "metadata": {},
   "source": [
    "# Setup\n",
    "\n",
    "## Library import\n",
    "\n",
    "**WorkflowEngine** is the primary class that will be used to instantiate and execute the workflow above.\n",
    "\n",
    "GeoEDF uses the _sregistry_ Singularity client library to interact with the GeoEDF Singularity registry. In order to turn off the informational messages from this library, we first set the _MESSAGELEVEL_ environment variable to _QUIET_."
   ]
  },
  {
   "cell_type": "code",
   "execution_count": null,
   "metadata": {},
   "outputs": [],
   "source": [
    "import os\n",
    "\n",
    "os.environ['MESSAGELEVEL'] = 'QUIET'\n",
    "\n",
    "from geoedfengine.WorkflowEngine import WorkflowEngine"
   ]
  },
  {
   "cell_type": "markdown",
   "metadata": {},
   "source": [
    "# Workflow Instantiation and Execution\n",
    "\n",
    "A new workflow object is created by instantiating the _WorkflowEngine_ class with the workflow YML file path and providing an ID for tracking this workflow.\n",
    "\n",
    "**Note:**\n",
    "\n",
    "1. At this point, the GeoEDF engine will validate the workflow file for proper syntax (ensuring no cyclic dependencies, all variables are bound by filters, etc.). \n",
    "2. The user will be prompted to enter values for any variables that have been left blank (for e.g., _password_).\n",
    "3. Workflow execution is asynchronous; on execution, the *workflow_status* method can be used to track execution status.\n",
    "4. Workflow may take a while to run based on the resources available to your Jupyter environment."
   ]
  },
  {
   "cell_type": "code",
   "execution_count": null,
   "metadata": {},
   "outputs": [],
   "source": [
    "#WorkflowEngine.execute_workflow(<workflow path>,<id>)\n",
    "\n",
    "WorkflowEngine.execute_workflow('/home/jovyan/CI4FAIR/workflow/mcd15.yml','mcd')"
   ]
  },
  {
   "cell_type": "markdown",
   "metadata": {},
   "source": [
    "# Workflow Monitoring\n",
    "\n",
    "The status of the workflow can be monitored by passing the workflow ID to the *workflow_status* method.\n",
    "\n",
    "Users can also use the *pegasus_status* and *pegasus_analyzer* tools from the Terminal to get more detailed workflow status or debug in case of failures."
   ]
  },
  {
   "cell_type": "code",
   "execution_count": null,
   "metadata": {},
   "outputs": [],
   "source": [
    "#WorkflowEngine.workflow_status(<id>)\n",
    "\n",
    "WorkflowEngine.workflow_status('mcd')"
   ]
  },
  {
   "cell_type": "markdown",
   "metadata": {},
   "source": [
    "# Discussion\n",
    "\n",
    "If the workflow succeeded, the output is an ESRI Shapefile (**_the output path is printed when the workflow is submitted for execution_**). However, there is no easy way to verify or visualize the result. There are Python mapping libraries (e.g. Folium or ipyLeaflet) that work with geospatial files, but require vector data to be in the GeoJSON format.\n",
    "\n",
    "As a next step, we demonstrate how a new processor can be developed for converting a shapefile into a GeoJSON file and appended as a third step to the above workflow. This demonstration can be found in the **_GeoEDF_Tutorial_02** notebook.\n"
   ]
  }
 ],
 "metadata": {
  "kernelspec": {
   "display_name": "Python 3 (ipykernel)",
   "language": "python",
   "name": "python3"
  },
  "language_info": {
   "codemirror_mode": {
    "name": "ipython",
    "version": 3
   },
   "file_extension": ".py",
   "mimetype": "text/x-python",
   "name": "python",
   "nbconvert_exporter": "python",
   "pygments_lexer": "ipython3",
   "version": "3.9.12"
  },
  "toc": {
   "base_numbering": 1,
   "nav_menu": {},
   "number_sections": true,
   "sideBar": true,
   "skip_h1_title": false,
   "title_cell": "Table of Contents",
   "title_sidebar": "Contents",
   "toc_cell": false,
   "toc_position": {
    "height": "calc(100% - 180px)",
    "left": "10px",
    "top": "150px",
    "width": "248.182px"
   },
   "toc_section_display": true,
   "toc_window_display": true
  }
 },
 "nbformat": 4,
 "nbformat_minor": 4
}
